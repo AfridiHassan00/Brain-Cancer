{
  "nbformat": 4,
  "nbformat_minor": 0,
  "metadata": {
    "colab": {
      "provenance": []
    },
    "kernelspec": {
      "name": "python3",
      "display_name": "Python 3"
    },
    "language_info": {
      "name": "python"
    }
  },
  "cells": [
    {
      "cell_type": "markdown",
      "source": [
        "***Importing Libraries***"
      ],
      "metadata": {
        "id": "a0H6JVtJ4evs"
      }
    },
    {
      "cell_type": "code",
      "execution_count": 48,
      "metadata": {
        "collapsed": true,
        "id": "0BCJxKsoHPzi"
      },
      "outputs": [],
      "source": [
        "import pandas as pd\n",
        "import numpy as np\n",
        "from sklearn.model_selection import train_test_split, GridSearchCV\n",
        "from sklearn.tree import DecisionTreeClassifier\n",
        "from xgboost import XGBClassifier\n",
        "from sklearn.metrics import accuracy_score, confusion_matrix, precision_recall_fscore_support, precision_recall_curve\n",
        "import matplotlib.pyplot as plt\n",
        "from sklearn.preprocessing import OneHotEncoder\n",
        "from sklearn.ensemble import RandomForestClassifier\n"
      ]
    },
    {
      "cell_type": "markdown",
      "source": [
        "***Load Data***"
      ],
      "metadata": {
        "id": "AzgKnq12IvKo"
      }
    },
    {
      "cell_type": "code",
      "source": [
        "# Load the dataset\n",
        "data = pd.read_csv('/content/DT-BrainCancer.csv')\n",
        "print(data.shape)\n",
        "print(data.head())\n",
        "data = data.drop(data.columns[0], axis=1)\n",
        "print(data.head())\n"
      ],
      "metadata": {
        "colab": {
          "base_uri": "https://localhost:8080/"
        },
        "id": "ALy_1BUKI0lv",
        "outputId": "fc0130f1-ae26-47fc-d5e7-7568cb232e49",
        "collapsed": true
      },
      "execution_count": 49,
      "outputs": [
        {
          "output_type": "stream",
          "name": "stdout",
          "text": [
            "(88, 7)\n",
            "   Unnamed: 0     sex   diagnosis             loc  ki    gtv  status\n",
            "0           1  Female  Meningioma  Infratentorial  90   6.11       0\n",
            "1           2    Male   HG glioma  Supratentorial  90  19.35       1\n",
            "2           3  Female  Meningioma  Infratentorial  70   7.95       0\n",
            "3           4  Female   LG glioma  Supratentorial  80   7.61       1\n",
            "4           5    Male   HG glioma  Supratentorial  90   5.06       1\n",
            "      sex   diagnosis             loc  ki    gtv  status\n",
            "0  Female  Meningioma  Infratentorial  90   6.11       0\n",
            "1    Male   HG glioma  Supratentorial  90  19.35       1\n",
            "2  Female  Meningioma  Infratentorial  70   7.95       0\n",
            "3  Female   LG glioma  Supratentorial  80   7.61       1\n",
            "4    Male   HG glioma  Supratentorial  90   5.06       1\n"
          ]
        }
      ]
    },
    {
      "cell_type": "markdown",
      "source": [
        "***One Hot Encoding using Dummies***"
      ],
      "metadata": {
        "id": "lL3CjirjgOvf"
      }
    },
    {
      "cell_type": "code",
      "source": [
        "# Convert categorical variables to numeric\n",
        "data = pd.get_dummies(data, columns=['sex', 'diagnosis', 'loc'])\n",
        "print(data.head())"
      ],
      "metadata": {
        "colab": {
          "base_uri": "https://localhost:8080/"
        },
        "id": "qwQHPLM6VVBC",
        "outputId": "34aabe1b-68fe-47b5-9b19-3b640c135c9e",
        "collapsed": true
      },
      "execution_count": 50,
      "outputs": [
        {
          "output_type": "stream",
          "name": "stdout",
          "text": [
            "   ki    gtv  status  sex_Female  sex_Male  diagnosis_HG glioma  \\\n",
            "0  90   6.11       0        True     False                False   \n",
            "1  90  19.35       1       False      True                 True   \n",
            "2  70   7.95       0        True     False                False   \n",
            "3  80   7.61       1        True     False                False   \n",
            "4  90   5.06       1       False      True                 True   \n",
            "\n",
            "   diagnosis_LG glioma  diagnosis_Meningioma  diagnosis_Other  \\\n",
            "0                False                  True            False   \n",
            "1                False                 False            False   \n",
            "2                False                  True            False   \n",
            "3                 True                 False            False   \n",
            "4                False                 False            False   \n",
            "\n",
            "   loc_Infratentorial  loc_Supratentorial  \n",
            "0                True               False  \n",
            "1               False                True  \n",
            "2                True               False  \n",
            "3               False                True  \n",
            "4               False                True  \n"
          ]
        }
      ]
    },
    {
      "cell_type": "markdown",
      "source": [
        "***2.Data Spliting***"
      ],
      "metadata": {
        "id": "Nh2hUZ84ynv6"
      }
    },
    {
      "cell_type": "code",
      "source": [
        "# Split the data\n",
        "train_data, temp_data = train_test_split(data, test_size=0.3, random_state=42)\n",
        "val_data, test_data = train_test_split(temp_data, test_size=0.5, random_state=42)\n",
        "\n",
        "#training,test,val data splitting\n",
        "X_train, y_train = train_data.drop('status', axis=1), train_data['status']\n",
        "X_val, y_val = val_data.drop('status', axis=1), val_data['status']\n",
        "X_test, y_test = test_data.drop('status', axis=1), test_data['status']\n",
        "\n",
        "\n",
        "print(X_train.head())\n",
        "print(y_train.head())\n",
        "print(y_train.shape)\n",
        "print(y_val.head())\n",
        "print(y_val.shape)\n",
        "\n"
      ],
      "metadata": {
        "id": "nDv3DHmDysSs",
        "colab": {
          "base_uri": "https://localhost:8080/"
        },
        "outputId": "854b8ff3-7db4-4a13-e022-4cc4b83ad0b1",
        "collapsed": true
      },
      "execution_count": 51,
      "outputs": [
        {
          "output_type": "stream",
          "name": "stdout",
          "text": [
            "    ki    gtv  sex_Female  sex_Male  diagnosis_HG glioma  diagnosis_LG glioma  \\\n",
            "39  90   2.54        True     False                False                False   \n",
            "31  90   2.56       False      True                False                False   \n",
            "35  70  14.26        True     False                False                False   \n",
            "45  60   7.09       False      True                False                False   \n",
            "44  90   3.12       False      True                False                False   \n",
            "\n",
            "    diagnosis_Meningioma  diagnosis_Other  loc_Infratentorial  \\\n",
            "39                  True            False               False   \n",
            "31                  True            False               False   \n",
            "35                 False             True               False   \n",
            "45                  True            False               False   \n",
            "44                 False             True                True   \n",
            "\n",
            "    loc_Supratentorial  \n",
            "39                True  \n",
            "31                True  \n",
            "35                True  \n",
            "45                True  \n",
            "44               False  \n",
            "39    0\n",
            "31    0\n",
            "35    0\n",
            "45    1\n",
            "44    0\n",
            "Name: status, dtype: int64\n",
            "(61,)\n",
            "64    0\n",
            "40    0\n",
            "22    0\n",
            "66    1\n",
            "28    0\n",
            "Name: status, dtype: int64\n",
            "(13,)\n"
          ]
        }
      ]
    },
    {
      "cell_type": "markdown",
      "source": [
        "***Building Confusion Matrix Manually***"
      ],
      "metadata": {
        "id": "gLVexVzI5TvO"
      }
    },
    {
      "cell_type": "code",
      "source": [
        "\n",
        "def confusion_matrix(y_true, y_pred):\n",
        "  TP=0\n",
        "  TN=0\n",
        "  FP=0\n",
        "  FN=0\n",
        "  y_arr = y_true.to_numpy()\n",
        "  for i in range(len(y_arr)):\n",
        "    if y_arr[i] == y_pred[i]:\n",
        "      if y_arr [i] == 1:\n",
        "        TP += 1\n",
        "      else:\n",
        "        TN += 1\n",
        "    else:\n",
        "      if y_arr [i] == 1:\n",
        "        FN += 1\n",
        "      else:\n",
        "        FP += 1\n",
        "\n",
        "  return TP, TN, FP, FN\n"
      ],
      "metadata": {
        "id": "qILSonxfoVeR"
      },
      "execution_count": 52,
      "outputs": []
    },
    {
      "cell_type": "markdown",
      "source": [
        "***Implemanting Evaluation Matrix***"
      ],
      "metadata": {
        "id": "iQm7frwh5XNn"
      }
    },
    {
      "cell_type": "code",
      "source": [
        "def measure_accuracy(TP, TN, FP, FN):\n",
        "  accuracy = (TP+TN)/(TP+TN+FP+FN)\n",
        "  return accuracy\n",
        "\n",
        "def measure_precision(TP, FP, TN, FN):\n",
        "  precision_0 = TN/(TN + FN)\n",
        "  precision_1 = TP/(TP+FP)\n",
        "  return precision_0, precision_1\n",
        "\n",
        "def measure_recall(TP, FP, TN, FN):\n",
        "  recall_0 = TN/(TN + FP)\n",
        "  recall_1 = TP/(TP+FN)\n",
        "  return recall_0, recall_1\n",
        "\n",
        "def measure_f1_score(precision, recall):\n",
        "  f1_score_0 = 2*(precision[0]*recall[0])/(precision[0]+recall[0])\n",
        "  f1_score_1 = 2*(precision[1]*recall[1])/(precision[1]+recall[1])\n",
        "  return f1_score_0, f1_score_1"
      ],
      "metadata": {
        "id": "cg5zc_ov5Von"
      },
      "execution_count": 53,
      "outputs": []
    },
    {
      "cell_type": "code",
      "source": [],
      "metadata": {
        "id": "KURvbZ2rN-Tr"
      },
      "execution_count": 53,
      "outputs": []
    },
    {
      "cell_type": "markdown",
      "source": [
        "# ***Single Decision Tree Model***"
      ],
      "metadata": {
        "id": "0t9r2vuPPIqa"
      }
    },
    {
      "cell_type": "code",
      "source": [
        "dt_model = DecisionTreeClassifier(random_state=42)\n",
        "dt_model.fit(X_train, y_train)\n",
        "y_pred_val = dt_model.predict(X_val)\n",
        "y_pred_test = dt_model.predict(X_test)\n",
        "\n",
        "#Evaluation Matricse using Libraries____________________________________________\n",
        "cm = confusion_matrix(y_val,y_pred_val)\n",
        "accuracy = accuracy_score(y_val, y_pred_val)\n",
        "precision, recall, f1, support = precision_recall_fscore_support(y_val, y_pred_val, average=None)\n",
        "print(\"________VALIDATION SET RESULTS________\")\n",
        "print(\"Accuracy:\", accuracy)\n",
        "print(\"Precision:\", precision)\n",
        "print(\"Recall:\", recall)\n",
        "print(\"F1-score:\", f1)\n",
        "print(\"Confusion Matrix:\\n\", cm)\n",
        "\n",
        "cm = confusion_matrix(y_test, y_pred_test)\n",
        "accuracy = accuracy_score(y_test, y_pred_test)\n",
        "precision, recall, f1, support = precision_recall_fscore_support(y_test, y_pred_test, average=None)\n",
        "print(\"________TEST SET RESULTS________\")\n",
        "print(\"Test Accuracy:\", accuracy)\n",
        "print(\"Test Precision:\", precision)\n",
        "print(\"Test Recall:\", recall)\n",
        "print(\"Test F1-score:\", f1)\n",
        "print(\"Confusion Matrix:\\n\",cm)\n",
        "\n",
        "\n",
        "#Evaluation Matricse using manual functions_____________________________________\n",
        "print(\"Confusion Matrix:\")\n",
        "TP, TN, FP, FN = confusion_matrix(y_val, y_pred_val)\n",
        "print(\"TN:\",TN,\" TP:\",FP)\n",
        "print(\"FN:\",FN,\" TP:\",TP)\n",
        "\n",
        "accuracy = measure_accuracy(TP, TN, FP, FN)\n",
        "precision = measure_precision(TP, FP, TN, FN)\n",
        "recall = measure_recall(TP, FP, TN, FN)\n",
        "f1_score = measure_f1_score(precision, recall)\n",
        "\n",
        "print(\"Accuracy:\", accuracy)\n",
        "print(\"Precision:\", precision)\n",
        "print(\"Recall:\", recall)\n",
        "print(\"F1_Score:\", f1_score)\n",
        "\n",
        "\n",
        "TP, TN, FP, FN = confusion_matrix(y_test, y_pred_test)\n",
        "print(\"Confusion Matrix:\")\n",
        "print(\"TN:\",TN,\" TP:\",FP)\n",
        "print(\"FN:\",FN,\" TP:\",TP)\n",
        "precision = measure_precision(TP, FP, TN, FN)\n",
        "recall = measure_recall(TP, FP, TN, FN)\n",
        "f1_score = measure_f1_score(precision, recall)\n",
        "\n",
        "print(\"Accuracy:\", accuracy)\n",
        "print(\"Precision:\", precision)\n",
        "print(\"Recall:\", recall)\n",
        "print(\"F1_Score:\", f1_score)\n",
        "#_______________________________________________________________________________\n",
        "\n",
        "\n",
        "#Precision-Recall Curve\n",
        "precision_curve, recall_curve, thresholds = precision_recall_curve(y_test, dt_model.predict_proba(X_test)[:, 1])\n",
        "plt.plot(recall_curve, precision_curve)\n",
        "plt.xlabel('Recall')\n",
        "plt.ylabel('Precision')\n",
        "plt.title('Precision-Recall Curve (Test)')\n",
        "plt.show()\n"
      ],
      "metadata": {
        "colab": {
          "base_uri": "https://localhost:8080/",
          "height": 958
        },
        "outputId": "3035d221-ac7f-4423-dbd6-2d395f162601",
        "id": "hcNmqiWtMx-3"
      },
      "execution_count": 54,
      "outputs": [
        {
          "output_type": "stream",
          "name": "stdout",
          "text": [
            "________VALIDATION SET RESULTS________\n",
            "Accuracy: 0.6923076923076923\n",
            "Precision: [0.75 0.6 ]\n",
            "Recall: [0.75 0.6 ]\n",
            "F1-score: [0.75 0.6 ]\n",
            "Confusion Matrix:\n",
            " (3, 6, 2, 2)\n",
            "________TEST SET RESULTS________\n",
            "Test Accuracy: 0.5714285714285714\n",
            "Test Precision: [0.75       0.33333333]\n",
            "Test Recall: [0.6 0.5]\n",
            "Test F1-score: [0.66666667 0.4       ]\n",
            "Confusion Matrix:\n",
            " (2, 6, 4, 2)\n",
            "Confusion Matrix:\n",
            "TN: 6  TP: 2\n",
            "FN: 2  TP: 3\n",
            "Accuracy: 0.6923076923076923\n",
            "Precision: (0.75, 0.6)\n",
            "Recall: (0.75, 0.6)\n",
            "F1_Score: (0.75, 0.6)\n",
            "Confusion Matrix:\n",
            "TN: 6  TP: 4\n",
            "FN: 2  TP: 2\n",
            "Accuracy: 0.6923076923076923\n",
            "Precision: (0.75, 0.3333333333333333)\n",
            "Recall: (0.6, 0.5)\n",
            "F1_Score: (0.6666666666666665, 0.4)\n"
          ]
        },
        {
          "output_type": "display_data",
          "data": {
            "text/plain": [
              "<Figure size 640x480 with 1 Axes>"
            ],
            "image/png": "[encoded data removed]"
          },
          "metadata": {}
        }
      ]
    },
    {
      "cell_type": "markdown",
      "source": [
        "# ***Evaluation Matrix***"
      ],
      "metadata": {
        "id": "-fBO0w-z5uNS"
      }
    },
    {
      "cell_type": "code",
      "source": [],
      "metadata": {
        "id": "tfDN7WzgMxUO"
      },
      "execution_count": 54,
      "outputs": []
    },
    {
      "cell_type": "markdown",
      "source": [
        "# ***Decision Tree HyperParameter Tuning***"
      ],
      "metadata": {
        "id": "w2m0--ysPedY"
      }
    },
    {
      "cell_type": "code",
      "source": [
        "model1 = DecisionTreeClassifier(max_depth=10, min_samples_split=4,criterion='gini',    min_samples_leaf=1,  random_state=42)\n",
        "model2 = DecisionTreeClassifier(max_depth=9,  min_samples_split=5,criterion='entropy', min_samples_leaf=4,  random_state=42)\n",
        "model3 = DecisionTreeClassifier(max_depth=5,  min_samples_split=2,criterion='gini',    min_samples_leaf=10, random_state=42)\n",
        "model4 = DecisionTreeClassifier(max_depth=3,  min_samples_split=3,criterion='entropy', min_samples_leaf=7,  random_state=42)\n",
        "\n",
        "\n",
        "model1.fit(X_train, y_train)\n",
        "model2.fit(X_train, y_train)\n",
        "model3.fit(X_train, y_train)\n",
        "model4.fit(X_train, y_train)\n",
        "\n",
        "y_pred_val1 = model1.predict(X_val)\n",
        "y_pred_val2 = model2.predict(X_val)\n",
        "y_pred_val3 = model3.predict(X_val)\n",
        "y_pred_val4 = model4.predict(X_val)\n",
        "\n",
        "\n",
        "TP, TN, FP, FN = confusion_matrix(y_val, y_pred_val1)\n",
        "accuracy = measure_accuracy(TP, TN, FP, FN)\n",
        "precision = measure_precision(TP, FP, TN, FN)\n",
        "recall = measure_recall(TP, FP, TN, FN)\n",
        "f1_score = measure_f1_score(precision, recall)\n",
        "print(\"Model 1\")\n",
        "print(\"Accuracy:\", accuracy)\n",
        "print(\"Precision:\", precision)\n",
        "print(\"Recall:\", recall)\n",
        "print(\"F1_Score:\", f1_score)\n",
        "\n",
        "\n",
        "\n",
        "TP, TN, FP, FN = confusion_matrix(y_val, y_pred_val2)\n",
        "accuracy = measure_accuracy(TP, TN, FP, FN)\n",
        "precision = measure_precision(TP, FP, TN, FN)\n",
        "recall = measure_recall(TP, FP, TN, FN)\n",
        "f1_score = measure_f1_score(precision, recall)\n",
        "print(\"Model 2\")\n",
        "print(\"Accuracy:\", accuracy)\n",
        "print(\"Precision:\", precision)\n",
        "print(\"Recall:\", recall)\n",
        "print(\"F1_Score:\", f1_score)\n",
        "\n",
        "\n",
        "\n",
        "\n",
        "TP, TN, FP, FN = confusion_matrix(y_val, y_pred_val3)\n",
        "accuracy = measure_accuracy(TP, TN, FP, FN)\n",
        "precision = measure_precision(TP, FP, TN, FN)\n",
        "recall = measure_recall(TP, FP, TN, FN)\n",
        "f1_score = measure_f1_score(precision, recall)\n",
        "print(\"Model 3\")\n",
        "print(\"Accuracy:\", accuracy)\n",
        "print(\"Precision:\", precision)\n",
        "print(\"Recall:\", recall)\n",
        "print(\"F1_Score:\", f1_score)\n",
        "\n",
        "\n",
        "\n",
        "\n",
        "TP, TN, FP, FN = confusion_matrix(y_val, y_pred_val4)\n",
        "accuracy = measure_accuracy(TP, TN, FP, FN)\n",
        "precision = measure_precision(TP, FP, TN, FN)\n",
        "recall = measure_recall(TP, FP, TN, FN)\n",
        "f1_score = measure_f1_score(precision, recall)\n",
        "print(\"Model 4\")\n",
        "print(\"Accuracy:\", accuracy)\n",
        "print(\"Precision:\", precision)\n",
        "print(\"Recall:\", recall)\n",
        "print(\"F1_Score:\", f1_score)\n",
        "\n",
        "\n",
        "y_pred_test = model3.predict(X_test)\n",
        "\n",
        "TP, TN, FP, FN = confusion_matrix(y_test, y_pred_test)\n",
        "accuracy = measure_accuracy(TP, TN, FP, FN)\n",
        "precision = measure_precision(TP, FP, TN, FN)\n",
        "recall = measure_recall(TP, FP, TN, FN)\n",
        "f1_score = measure_f1_score(precision, recall)\n",
        "print(\"________TEST SET RESULTS________\")\n",
        "print(\"Accuracy:\", accuracy)\n",
        "print(\"Precision:\", precision)\n",
        "print(\"Recall:\", recall)\n",
        "print(\"F1_Score:\", f1_score)\n",
        "\n",
        "precision_curve, recall_curve, thresholds = precision_recall_curve(y_test, model3.predict_proba(X_test)[:, 1])\n",
        "plt.plot(recall_curve, precision_curve)\n",
        "plt.xlabel('Recall')\n",
        "plt.ylabel('Precision')\n",
        "plt.title('Precision-Recall Curve (Test)')\n",
        "plt\n"
      ],
      "metadata": {
        "colab": {
          "base_uri": "https://localhost:8080/",
          "height": 923
        },
        "id": "j2PrlSVNi-dV",
        "outputId": "e7325d03-ada8-4654-ef64-a4aba2e46f34"
      },
      "execution_count": 55,
      "outputs": [
        {
          "output_type": "stream",
          "name": "stdout",
          "text": [
            "Model 1\n",
            "Accuracy: 0.6923076923076923\n",
            "Precision: (0.75, 0.6)\n",
            "Recall: (0.75, 0.6)\n",
            "F1_Score: (0.75, 0.6)\n",
            "Model 2\n",
            "Accuracy: 0.6923076923076923\n",
            "Precision: (0.7, 0.6666666666666666)\n",
            "Recall: (0.875, 0.4)\n",
            "F1_Score: (0.7777777777777777, 0.5)\n",
            "Model 3\n",
            "Accuracy: 0.9230769230769231\n",
            "Precision: (0.8888888888888888, 1.0)\n",
            "Recall: (1.0, 0.8)\n",
            "F1_Score: (0.9411764705882353, 0.888888888888889)\n",
            "Model 4\n",
            "Accuracy: 0.9230769230769231\n",
            "Precision: (0.8888888888888888, 1.0)\n",
            "Recall: (1.0, 0.8)\n",
            "F1_Score: (0.9411764705882353, 0.888888888888889)\n",
            "________TEST SET RESULTS________\n",
            "Accuracy: 0.7857142857142857\n",
            "Precision: (0.8888888888888888, 0.6)\n",
            "Recall: (0.8, 0.75)\n",
            "F1_Score: (0.8421052631578948, 0.6666666666666665)\n"
          ]
        },
        {
          "output_type": "execute_result",
          "data": {
            "text/plain": [
              "<module 'matplotlib.pyplot' from '/usr/local/lib/python3.10/dist-packages/matplotlib/pyplot.py'>"
            ]
          },
          "metadata": {},
          "execution_count": 55
        },
        {
          "output_type": "display_data",
          "data": {
            "text/plain": [
              "<Figure size 640x480 with 1 Axes>"
            ],
            "image/png": "[encoded data removed]"
          },
          "metadata": {}
        }
      ]
    },
    {
      "cell_type": "markdown",
      "source": [
        "***Decision Tree After Hyper Tuning***"
      ],
      "metadata": {
        "id": "cFp4RSw46BWC"
      }
    },
    {
      "cell_type": "markdown",
      "source": [
        "# ***XGBoost***"
      ],
      "metadata": {
        "id": "9wPyH7xA6ae_"
      }
    },
    {
      "cell_type": "code",
      "source": [
        "xgb_model = XGBClassifier(random_state=42)\n",
        "xgb_model.fit(X_train, y_train)\n",
        "y_pred_val = xgb_model.predict(X_val)\n",
        "y_pred_test = xgb_model.predict(X_test)\n",
        "\n",
        "#Evaluation Matricse using Libraries____________________________________________\n",
        "print(\"Using matrix libraries\")\n",
        "cm = confusion_matrix(y_val,y_pred_val)\n",
        "accuracy = accuracy_score(y_val, y_pred_val)\n",
        "precision, recall, f1, support = precision_recall_fscore_support(y_val, y_pred_val, average=None)\n",
        "print(\"________VALIDATION SET RESULTS________\")\n",
        "print(\"Confusion Matrix:\\n\", cm)\n",
        "print(\"Accuracy:\", accuracy)\n",
        "print(\"Precision:\", precision)\n",
        "print(\"Recall:\", recall)\n",
        "print(\"F1-score:\", f1)\n",
        "\n",
        "cm = confusion_matrix(y_test, y_pred_test)\n",
        "accuracy = accuracy_score(y_test, y_pred_test)\n",
        "precision, recall, f1, support = precision_recall_fscore_support(y_test, y_pred_test, average=None)\n",
        "print(\"________TEST SET RESULTS________\")\n",
        "print(\"Confusion Matrix:\\n\",cm)\n",
        "print(\"Test Accuracy:\", accuracy)\n",
        "print(\"Test Precision:\", precision)\n",
        "print(\"Test Recall:\", recall)\n",
        "print(\"Test F1-score:\", f1)\n",
        "print(\"--------------------------------\")\n",
        "\n",
        "#Evaluation Matricse using manual functions_____________________________________\n",
        "print(\"Using manual evaluation matrix\")\n",
        "print(\"Confusion Matrix:\")\n",
        "TP, TN, FP, FN = confusion_matrix(y_val, y_pred_val)\n",
        "print(\"TN:\",TN,\" TP:\",FP)\n",
        "print(\"FN:\",FN,\" TP:\",TP)\n",
        "\n",
        "accuracy = measure_accuracy(TP, TN, FP, FN)\n",
        "precision = measure_precision(TP, FP, TN, FN)\n",
        "recall = measure_recall(TP, FP, TN, FN)\n",
        "f1_score = measure_f1_score(precision, recall)\n",
        "\n",
        "print(\"Accuracy:\", accuracy)\n",
        "print(\"Precision:\", precision)\n",
        "print(\"Recall:\", recall)\n",
        "print(\"F1_Score:\", f1_score)\n",
        "\n",
        "\n",
        "TP, TN, FP, FN = confusion_matrix(y_test, y_pred_test)\n",
        "print(\"Confusion Matrix:\")\n",
        "print(\"TN:\",TN,\" TP:\",FP)\n",
        "print(\"FN:\",FN,\" TP:\",TP)\n",
        "precision = measure_precision(TP, FP, TN, FN)\n",
        "recall = measure_recall(TP, FP, TN, FN)\n",
        "f1_score = measure_f1_score(precision, recall)\n",
        "\n",
        "print(\"Accuracy:\", accuracy)\n",
        "print(\"Precision:\", precision)\n",
        "print(\"Recall:\", recall)\n",
        "print(\"F1_Score:\", f1_score)\n",
        "#_______________________________________________________________________________\n",
        "\n",
        "precision_curve, recall_curve, thresholds = precision_recall_curve(y_test, xgb_model.predict_proba(X_test)[:, 1])\n",
        "plt.plot(recall_curve, precision_curve)\n",
        "plt.xlabel('Recall')\n",
        "plt.ylabel('Precision')\n",
        "plt.title('Precision-Recall Curve (Test)')\n",
        "plt.show()"
      ],
      "metadata": {
        "colab": {
          "base_uri": "https://localhost:8080/",
          "height": 1000
        },
        "id": "ymKV0dHCfnV9",
        "outputId": "d49875c7-128b-49d7-9ac7-c4078a92ea30"
      },
      "execution_count": 60,
      "outputs": [
        {
          "output_type": "stream",
          "name": "stdout",
          "text": [
            "Using matrix libraries\n",
            "________VALIDATION SET RESULTS________\n",
            "Confusion Matrix:\n",
            " (3, 7, 1, 2)\n",
            "Accuracy: 0.7692307692307693\n",
            "Precision: [0.77777778 0.75      ]\n",
            "Recall: [0.875 0.6  ]\n",
            "F1-score: [0.82352941 0.66666667]\n",
            "________TEST SET RESULTS________\n",
            "Confusion Matrix:\n",
            " (2, 6, 4, 2)\n",
            "Test Accuracy: 0.5714285714285714\n",
            "Test Precision: [0.75       0.33333333]\n",
            "Test Recall: [0.6 0.5]\n",
            "Test F1-score: [0.66666667 0.4       ]\n",
            "--------------------------------\n",
            "Using manual evaluation matrix\n",
            "Confusion Matrix:\n",
            "TN: 7  TP: 1\n",
            "FN: 2  TP: 3\n",
            "Accuracy: 0.7692307692307693\n",
            "Precision: (0.7777777777777778, 0.75)\n",
            "Recall: (0.875, 0.6)\n",
            "F1_Score: (0.823529411764706, 0.6666666666666665)\n",
            "Confusion Matrix:\n",
            "TN: 6  TP: 4\n",
            "FN: 2  TP: 2\n",
            "Accuracy: 0.7692307692307693\n",
            "Precision: (0.75, 0.3333333333333333)\n",
            "Recall: (0.6, 0.5)\n",
            "F1_Score: (0.6666666666666665, 0.4)\n"
          ]
        },
        {
          "output_type": "display_data",
          "data": {
            "text/plain": [
              "<Figure size 640x480 with 1 Axes>"
            ],
            "image/png": "[encoded data removed]"
          },
          "metadata": {}
        }
      ]
    },
    {
      "cell_type": "code",
      "source": [
        "\n",
        "\n",
        "model1 = XGBClassifier(max_depth=4, colsample_bytree=0.8, learning_rate=0.01, n_estimators=200,subsample=1.0)\n",
        "model2 = XGBClassifier(max_depth=8, colsample_bytree=0.5, learning_rate=0.1, n_estimators=100,subsample=0.5)\n",
        "model3 = XGBClassifier(max_depth=7, colsample_bytree=0.7, learning_rate=0.2, n_estimators=150,subsample=0.7)\n",
        "model4 = XGBClassifier(max_depth=6, colsample_bytree=0.9, learning_rate=0.02, n_estimators=200, subsample=0.8)\n",
        "\n",
        "model1.fit(X_train, y_train)\n",
        "model2.fit(X_train, y_train)\n",
        "model3.fit(X_train, y_train)\n",
        "model4.fit(X_train, y_train)\n",
        "\n",
        "y_pred_val1 = model1.predict(X_val)\n",
        "y_pred_val2 = model2.predict(X_val)\n",
        "y_pred_val3 = model3.predict(X_val)\n",
        "y_pred_val4 = model4.predict(X_val)\n",
        "\n",
        "TP, TN, FP, FN = confusion_matrix(y_val, y_pred_val1)\n",
        "accuracy = measure_accuracy(TP, TN, FP, FN)\n",
        "precision = measure_precision(TP, FP, TN, FN)\n",
        "recall = measure_recall(TP, FP, TN, FN)\n",
        "f1_score = measure_f1_score(precision, recall)\n",
        "print(\"Model 1\")\n",
        "print(\"Accuracy:\", accuracy)\n",
        "print(\"Precision:\", precision)\n",
        "print(\"Recall:\", recall)\n",
        "print(\"F1_Score:\", f1_score)\n",
        "\n",
        "\n",
        "\n",
        "TP, TN, FP, FN = confusion_matrix(y_val, y_pred_val2)\n",
        "accuracy = measure_accuracy(TP, TN, FP, FN)\n",
        "precision = measure_precision(TP, FP, TN, FN)\n",
        "recall = measure_recall(TP, FP, TN, FN)\n",
        "f1_score = measure_f1_score(precision, recall)\n",
        "print(\"Model 2\")\n",
        "print(\"Accuracy:\", accuracy)\n",
        "print(\"Precision:\", precision)\n",
        "print(\"Recall:\", recall)\n",
        "print(\"F1_Score:\", f1_score)\n",
        "\n",
        "\n",
        "\n",
        "\n",
        "TP, TN, FP, FN = confusion_matrix(y_val, y_pred_val3)\n",
        "accuracy = measure_accuracy(TP, TN, FP, FN)\n",
        "precision = measure_precision(TP, FP, TN, FN)\n",
        "recall = measure_recall(TP, FP, TN, FN)\n",
        "f1_score = measure_f1_score(precision, recall)\n",
        "print(\"Model 3\")\n",
        "print(\"Accuracy:\", accuracy)\n",
        "print(\"Precision:\", precision)\n",
        "print(\"Recall:\", recall)\n",
        "print(\"F1_Score:\", f1_score)\n",
        "\n",
        "\n",
        "\n",
        "\n",
        "TP, TN, FP, FN = confusion_matrix(y_val, y_pred_val4)\n",
        "accuracy = measure_accuracy(TP, TN, FP, FN)\n",
        "precision = measure_precision(TP, FP, TN, FN)\n",
        "recall = measure_recall(TP, FP, TN, FN)\n",
        "f1_score = measure_f1_score(precision, recall)\n",
        "print(\"Model 4\")\n",
        "print(\"Accuracy:\", accuracy)\n",
        "print(\"Precision:\", precision)\n",
        "print(\"Recall:\", recall)\n",
        "print(\"F1_Score:\", f1_score)\n",
        "\n",
        "\n",
        "y_pred_test = model1.predict(X_test)\n",
        "\n",
        "TP, TN, FP, FN = confusion_matrix(y_test, y_pred_test)\n",
        "accuracy = measure_accuracy(TP, TN, FP, FN)\n",
        "precision = measure_precision(TP, FP, TN, FN)\n",
        "recall = measure_recall(TP, FP, TN, FN)\n",
        "f1_score = measure_f1_score(precision, recall)\n",
        "print(\"________TEST SET RESULTS________\")\n",
        "print(\"Accuracy:\", accuracy)\n",
        "print(\"Precision:\", precision)\n",
        "print(\"Recall:\", recall)\n",
        "print(\"F1_Score:\", f1_score)\n",
        "\n",
        "precision_curve, recall_curve, thresholds = precision_recall_curve(y_test, model1.predict_proba(X_test)[:, 1])\n",
        "plt.plot(recall_curve, precision_curve)\n",
        "plt.xlabel('Recall')\n",
        "plt.ylabel('Precision')\n",
        "plt.title('Precision-Recall Curve (Test)')\n",
        "plt.show()\n"
      ],
      "metadata": {
        "colab": {
          "base_uri": "https://localhost:8080/",
          "height": 906
        },
        "id": "sSppTLAGzfaE",
        "outputId": "07651537-ef5a-4e8e-d605-6fb920e6af0a"
      },
      "execution_count": 57,
      "outputs": [
        {
          "output_type": "stream",
          "name": "stdout",
          "text": [
            "Model 1\n",
            "Accuracy: 0.9230769230769231\n",
            "Precision: (0.8888888888888888, 1.0)\n",
            "Recall: (1.0, 0.8)\n",
            "F1_Score: (0.9411764705882353, 0.888888888888889)\n",
            "Model 2\n",
            "Accuracy: 0.8461538461538461\n",
            "Precision: (0.875, 0.8)\n",
            "Recall: (0.875, 0.8)\n",
            "F1_Score: (0.875, 0.8000000000000002)\n",
            "Model 3\n",
            "Accuracy: 0.7692307692307693\n",
            "Precision: (0.8571428571428571, 0.6666666666666666)\n",
            "Recall: (0.75, 0.8)\n",
            "F1_Score: (0.7999999999999999, 0.7272727272727272)\n",
            "Model 4\n",
            "Accuracy: 0.9230769230769231\n",
            "Precision: (0.8888888888888888, 1.0)\n",
            "Recall: (1.0, 0.8)\n",
            "F1_Score: (0.9411764705882353, 0.888888888888889)\n",
            "________TEST SET RESULTS________\n",
            "Accuracy: 0.7857142857142857\n",
            "Precision: (0.8888888888888888, 0.6)\n",
            "Recall: (0.8, 0.75)\n",
            "F1_Score: (0.8421052631578948, 0.6666666666666665)\n"
          ]
        },
        {
          "output_type": "display_data",
          "data": {
            "text/plain": [
              "<Figure size 640x480 with 1 Axes>"
            ],
            "image/png": "[encoded data removed]"
          },
          "metadata": {}
        }
      ]
    },
    {
      "cell_type": "markdown",
      "source": [],
      "metadata": {
        "id": "vWcaj7SR4cw0"
      }
    }
  ]
}